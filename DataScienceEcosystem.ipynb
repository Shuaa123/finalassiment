{
 "cells": [
  {
   "cell_type": "markdown",
   "id": "f7bc82c1",
   "metadata": {},
   "source": [
    "# Data Science Tools and Ecosystem"
   ]
  },
  {
   "cell_type": "markdown",
   "id": "63a21d00",
   "metadata": {},
   "source": [
    "In this notebook, Data Science Tools and Ecosystem are summarized."
   ]
  },
  {
   "cell_type": "markdown",
   "id": "74906c62",
   "metadata": {},
   "source": [
    "**Objectives:**\n",
    "\n",
    "- Create a Jupyter Notebook with markdown and code cells\n",
    "- List examples of languages, libraries and tools used in Data Science\n",
    "- Share your Jupyter Notebook publicly on GitHub\n",
    "- Evaluate notebooks submitted by your peers using the provided rubric\n",
    "- Demonstrate proficiency in Data Science toolkit knowledge\n"
   ]
  },
  {
   "cell_type": "markdown",
   "id": "57ba8e85",
   "metadata": {},
   "source": [
    "# Data Science Languages\n",
    "\n",
    "Some of the popular languages that Data Scientists use are:\n",
    "\n",
    "1. **Python:** Widely adopted for its versatility, Python is a go-to language in the data science community. Its extensive libraries, such as NumPy, Pandas, and scikit-learn, make it a powerful tool for data analysis, machine learning, and visualization.\n",
    "\n",
    "2. **R:** Specifically designed for statistics and data analysis, R is favored for its robust statistical packages and visualization capabilities. It is commonly used in academia and research for exploring and interpreting data.\n",
    "\n",
    "3. **SQL (Structured Query Language):** SQL is essential for working with relational databases. Data scientists use SQL to query, manipulate, and extract insights from large datasets stored in databases, playing a crucial role in data extraction and transformation processes.\n",
    "\n",
    "4. **Julia:** Known for its high-performance computing capabilities, Julia is gaining popularity in data science for its speed in numerical and scientific computing tasks. It is particularly well-suited for complex simulations and large-scale data analysis.\n",
    "\n",
    "5. **Scala:** Often used in conjunction with Apache Spark, Scala is a versatile programming language that allows data scientists to build scalable and distributed data processing applications.\n",
    "\n",
    "Feel free to explore and combine these languages based on your specific data science needs and preferences.\n"
   ]
  },
  {
   "cell_type": "markdown",
   "id": "6abb7f29",
   "metadata": {},
   "source": [
    "# Data Science Libraries\n",
    "\n",
    "Some of the commonly used libraries by Data Scientists include:\n",
    "\n",
    "1. **NumPy:** A fundamental library for scientific computing in Python, NumPy provides support for large, multi-dimensional arrays and matrices, along with mathematical functions to operate on these arrays.\n",
    "\n",
    "2. **Pandas:** Built on top of NumPy, Pandas offers data structures like DataFrames, making it easy to manipulate and analyze structured data. It is a go-to library for data cleaning, exploration, and transformation tasks.\n",
    "\n",
    "3. **scikit-learn:** As a machine learning library for Python, scikit-learn provides simple and efficient tools for data analysis and modeling. It includes various algorithms for classification, regression, clustering, and more.\n",
    "\n",
    "4. **Matplotlib:** A versatile plotting library for Python, Matplotlib allows Data Scientists to create a wide range of static, animated, and interactive visualizations. It is often used in conjunction with Pandas for data visualization.\n",
    "\n",
    "5. **TensorFlow:** Developed by Google, TensorFlow is an open-source machine learning library. It is particularly popular for building and training deep learning models, offering flexibility for both beginners and experts in the field.\n",
    "\n",
    "These libraries form the backbone of data science workflows, providing powerful tools for data manipulation, analysis, and machine learning.\n"
   ]
  },
  {
   "cell_type": "markdown",
   "id": "ea2cd013",
   "metadata": {},
   "source": [
    "# Data Science Tools\n",
    "\n",
    "| Data Science Tools       |\n",
    "|--------------------------|\n",
    "| Jupyter Notebooks        |\n",
    "| RStudio                  |\n",
    "| VS Code (Visual Studio Code) |\n"
   ]
  },
  {
   "cell_type": "markdown",
   "id": "1d61b401",
   "metadata": {},
   "source": [
    "### Examples of Evaluating Arithmetic Expressions in Python\n",
    "\n",
    "Below are a few examples of evaluating arithmetic expressions in Python.\n"
   ]
  },
  {
   "cell_type": "code",
   "execution_count": 1,
   "id": "48faa770",
   "metadata": {},
   "outputs": [
    {
     "data": {
      "text/plain": [
       "17"
      ]
     },
     "execution_count": 1,
     "metadata": {},
     "output_type": "execute_result"
    }
   ],
   "source": [
    "# This is a simple arithmetic expression to multiply then add integers.\n",
    "result = (3 * 4) + 5\n",
    "result\n"
   ]
  },
  {
   "cell_type": "code",
   "execution_count": 2,
   "id": "c3122d80",
   "metadata": {},
   "outputs": [
    {
     "data": {
      "text/plain": [
       "3.3333333333333335"
      ]
     },
     "execution_count": 2,
     "metadata": {},
     "output_type": "execute_result"
    }
   ],
   "source": [
    "# This will convert 200 minutes to hours by dividing by 60.\n",
    "minutes = 200\n",
    "hours = minutes / 60\n",
    "hours\n"
   ]
  },
  {
   "cell_type": "markdown",
   "id": "8b62f02f",
   "metadata": {},
   "source": [
    "## Author\n",
    "\n",
    "Shuaa AlRajeh"
   ]
  },
  {
   "cell_type": "code",
   "execution_count": null,
   "id": "8a7f406e",
   "metadata": {},
   "outputs": [],
   "source": []
  },
  {
   "cell_type": "code",
   "execution_count": null,
   "id": "690fea8a",
   "metadata": {},
   "outputs": [],
   "source": []
  },
  {
   "cell_type": "code",
   "execution_count": null,
   "id": "647b3868",
   "metadata": {},
   "outputs": [],
   "source": []
  },
  {
   "cell_type": "code",
   "execution_count": null,
   "id": "8390aa16",
   "metadata": {},
   "outputs": [],
   "source": []
  },
  {
   "cell_type": "code",
   "execution_count": null,
   "id": "ffb2247c",
   "metadata": {},
   "outputs": [],
   "source": []
  },
  {
   "cell_type": "code",
   "execution_count": null,
   "id": "18099b6f",
   "metadata": {},
   "outputs": [],
   "source": []
  }
 ],
 "metadata": {
  "kernelspec": {
   "display_name": "Python 3 (ipykernel)",
   "language": "python",
   "name": "python3"
  },
  "language_info": {
   "codemirror_mode": {
    "name": "ipython",
    "version": 3
   },
   "file_extension": ".py",
   "mimetype": "text/x-python",
   "name": "python",
   "nbconvert_exporter": "python",
   "pygments_lexer": "ipython3",
   "version": "3.11.5"
  },
  "varInspector": {
   "cols": {
    "lenName": 16,
    "lenType": 16,
    "lenVar": 40
   },
   "kernels_config": {
    "python": {
     "delete_cmd_postfix": "",
     "delete_cmd_prefix": "del ",
     "library": "var_list.py",
     "varRefreshCmd": "print(var_dic_list())"
    },
    "r": {
     "delete_cmd_postfix": ") ",
     "delete_cmd_prefix": "rm(",
     "library": "var_list.r",
     "varRefreshCmd": "cat(var_dic_list()) "
    }
   },
   "types_to_exclude": [
    "module",
    "function",
    "builtin_function_or_method",
    "instance",
    "_Feature"
   ],
   "window_display": false
  }
 },
 "nbformat": 4,
 "nbformat_minor": 5
}
